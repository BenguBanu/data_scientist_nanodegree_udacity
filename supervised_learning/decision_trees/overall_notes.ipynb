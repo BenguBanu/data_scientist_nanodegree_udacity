{
 "cells": [
  {
   "cell_type": "markdown",
   "metadata": {},
   "source": [
    "# Supervised Learning\n",
    "## Decision Trees\n",
    "##### Elliot Partridge"
   ]
  },
  {
   "cell_type": "markdown",
   "metadata": {},
   "source": [
    "#### Entropy"
   ]
  },
  {
   "cell_type": "markdown",
   "metadata": {},
   "source": [
    "_\"Information Theory defines the certainty of a decision (1 if completely certain, 0 if completely uncertain, normally in between) as entropy, a probability-based measure used to calculate the amount of uncertainty._\n",
    "\n",
    "_It's also hence a measure of how much information we don't know (how uncertain we are about the data), and can be used to measure how much information we gain from an attribute when the target attribute is revealed to us.\"_ [Link.](http://wiki.bethanycrane.com/entropy-in-ml)"
   ]
  },
  {
   "cell_type": "markdown",
   "metadata": {},
   "source": [
    "**Question:**\n",
    "\n",
    "_\"What is the entropy for a bucket with a ratio of four red balls to ten blue balls? Input your answer to at least three decimal places.\"_"
   ]
  },
  {
   "cell_type": "code",
   "execution_count": 1,
   "metadata": {},
   "outputs": [],
   "source": [
    "import numpy as np"
   ]
  },
  {
   "cell_type": "code",
   "execution_count": 2,
   "metadata": {},
   "outputs": [],
   "source": [
    "p_rb = 4/14\n",
    "p_bb = 10/14"
   ]
  },
  {
   "cell_type": "code",
   "execution_count": 3,
   "metadata": {},
   "outputs": [
    {
     "data": {
      "text/plain": [
       "0.00023038142796240075"
      ]
     },
     "execution_count": 3,
     "metadata": {},
     "output_type": "execute_result"
    }
   ],
   "source": [
    "prob_winning = p_rb*p_rb*p_rb*p_rb*p_bb*p_bb*p_bb*p_bb*p_bb*p_bb*p_bb*p_bb*p_bb*p_bb\n",
    "prob_winning"
   ]
  },
  {
   "cell_type": "code",
   "execution_count": 4,
   "metadata": {},
   "outputs": [
    {
     "data": {
      "text/plain": [
       "12.083687959932837"
      ]
     },
     "execution_count": 4,
     "metadata": {},
     "output_type": "execute_result"
    }
   ],
   "source": [
    "min_log_2_prob_winning = -np.log2(p_rb)+-np.log2(p_rb)+-np.log2(p_rb)+-np.log2(p_rb)+-np.log2(p_bb)+-np.log2(p_bb)+-np.log2(p_bb)+-np.log2(p_bb)+-np.log2(p_bb)+-np.log2(p_bb)+-np.log2(p_bb)+-np.log2(p_bb)+-np.log2(p_bb)+-np.log2(p_bb)\n",
    "min_log_2_prob_winning"
   ]
  },
  {
   "cell_type": "code",
   "execution_count": 5,
   "metadata": {},
   "outputs": [
    {
     "data": {
      "text/plain": [
       "0.8631205685666312"
      ]
     },
     "execution_count": 5,
     "metadata": {},
     "output_type": "execute_result"
    }
   ],
   "source": [
    "entropy = min_log_2_prob_winning / 14\n",
    "entropy"
   ]
  },
  {
   "cell_type": "code",
   "execution_count": 6,
   "metadata": {},
   "outputs": [
    {
     "data": {
      "text/plain": [
       "0.863120568566631"
      ]
     },
     "execution_count": 6,
     "metadata": {},
     "output_type": "execute_result"
    }
   ],
   "source": [
    "# Concise solution\n",
    "\n",
    "con_sol = -((4/14)* np.log2(4/14) + (10/14)* np.log2(10/14))\n",
    "con_sol"
   ]
  },
  {
   "cell_type": "markdown",
   "metadata": {},
   "source": [
    "**Question:**\n",
    "\n",
    "_\"If we have a bucket with eight red balls, three blue balls, and two yellow balls, what is the entropy of the set of balls? Input your answer to at least three decimal places.\"_"
   ]
  },
  {
   "cell_type": "code",
   "execution_count": 10,
   "metadata": {},
   "outputs": [
    {
     "data": {
      "text/plain": [
       "1.3346791410515946"
      ]
     },
     "execution_count": 10,
     "metadata": {},
     "output_type": "execute_result"
    }
   ],
   "source": [
    "p_rb = 8/13\n",
    "p_bb = 3/13\n",
    "p_yb = 2/13\n",
    "\n",
    "entropy = (-p_rb * np.log2(p_rb)) + (-p_bb * np.log2(p_bb)) + (-p_yb * np.log2(p_yb))\n",
    "entropy"
   ]
  },
  {
   "cell_type": "code",
   "execution_count": null,
   "metadata": {},
   "outputs": [],
   "source": []
  }
 ],
 "metadata": {
  "kernelspec": {
   "display_name": "Python [conda env:anaconda3]",
   "language": "python",
   "name": "conda-env-anaconda3-py"
  },
  "language_info": {
   "codemirror_mode": {
    "name": "ipython",
    "version": 3
   },
   "file_extension": ".py",
   "mimetype": "text/x-python",
   "name": "python",
   "nbconvert_exporter": "python",
   "pygments_lexer": "ipython3",
   "version": "3.6.4"
  }
 },
 "nbformat": 4,
 "nbformat_minor": 2
}
