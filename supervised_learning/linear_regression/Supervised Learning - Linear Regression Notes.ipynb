{
 "cells": [
  {
   "cell_type": "markdown",
   "metadata": {},
   "source": [
    "# Supervised Learning\n",
    "## Linear Regression\n",
    "##### Elliot Partridge"
   ]
  },
  {
   "cell_type": "markdown",
   "metadata": {},
   "source": [
    "Random notes etc."
   ]
  },
  {
   "cell_type": "markdown",
   "metadata": {},
   "source": [
    "Equation for line: $y=1.2x+2$"
   ]
  },
  {
   "cell_type": "code",
   "execution_count": 1,
   "metadata": {},
   "outputs": [],
   "source": [
    "import numpy as np"
   ]
  },
  {
   "cell_type": "markdown",
   "metadata": {},
   "source": [
    "#### Mean absolute error"
   ]
  },
  {
   "cell_type": "markdown",
   "metadata": {},
   "source": [
    "Substitute the x co-ordinates from the points into the line equation, the figures you get are the predicted y values"
   ]
  },
  {
   "cell_type": "code",
   "execution_count": 2,
   "metadata": {},
   "outputs": [
    {
     "name": "stdout",
     "output_type": "stream",
     "text": [
      "Mean absolute error: 3.88\n"
     ]
    }
   ],
   "source": [
    "xy_coordinates = np.array([(2, -2), (5, 6), (-4, -4), (-7, 1), (8, 14)])\n",
    "\n",
    "# Get the slope (1.2) and multiply this by x from the x,y coordinates finally add the intercept (2) to give the predicted y value\n",
    "y_pred = 1.2 * xy_coordinates[:,0] + 2\n",
    "\n",
    "# Calculate the absolute difference between the predicted y and actual y value for all coordinates and produce the mean \n",
    "mae = np.mean(np.abs(y_pred - xy_coordinates[:,1]))\n",
    "print(\"Mean absolute error: \" + str(mae))"
   ]
  },
  {
   "cell_type": "markdown",
   "metadata": {},
   "source": [
    "#### Mean squared error"
   ]
  }
 ],
 "metadata": {
  "kernelspec": {
   "display_name": "Python [conda env:anaconda3]",
   "language": "python",
   "name": "conda-env-anaconda3-py"
  },
  "language_info": {
   "codemirror_mode": {
    "name": "ipython",
    "version": 3
   },
   "file_extension": ".py",
   "mimetype": "text/x-python",
   "name": "python",
   "nbconvert_exporter": "python",
   "pygments_lexer": "ipython3",
   "version": "3.6.4"
  }
 },
 "nbformat": 4,
 "nbformat_minor": 2
}
