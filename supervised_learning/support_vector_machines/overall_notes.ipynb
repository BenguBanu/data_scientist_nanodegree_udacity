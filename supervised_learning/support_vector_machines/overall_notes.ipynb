{
 "cells": [
  {
   "cell_type": "markdown",
   "metadata": {},
   "source": [
    "# Supervised Learning\n",
    "## Support Vector Machines\n",
    "##### Elliot Partridge"
   ]
  },
  {
   "cell_type": "markdown",
   "metadata": {},
   "source": [
    "Random notes etc."
   ]
  },
  {
   "cell_type": "markdown",
   "metadata": {},
   "source": [
    "**Recap:**\n",
    "Support Vector Machines (or SVMs) are a popular algorithm used for classification problems. There are three different ways that SVMs can be implemented:\n",
    "\n",
    "1. Maximum Margin Classifier\n",
    "2. Classification with Inseparable Classes\n",
    "3. Kernel Methods\n",
    "\n",
    "**Maximum Margin Classifier**\n",
    "When your data can be completely separated, the linear version of SVMs attempts to maximize the distance from the linear boundary to the closest points (called the support vectors). For this reason, we saw that in the picture below, the boundary on the left is better than the one on the right.\n",
    "\n",
    "<img src=\"https://s3.amazonaws.com/video.udacity-data.com/topher/2018/June/5b1337e8_screen-shot-2018-06-02-at-5.34.36-pm/screen-shot-2018-06-02-at-5.34.36-pm.png\" width=\"400\"/>\n",
    "\n",
    "**Classification with Inseparable Classes**\n",
    "Unfortunately, data in the real world is rarely completely separable as shown in the above images. For this reason, we introduced a new hyper-parameter called C. The C hyper-parameter determines how flexible we are willing to be with the points that fall on the wrong side of our dividing boundary. The value of C ranges between 0 and infinity. When C is large, you are forcing your boundary to have fewer errors than when it is a small value.\n",
    "\n",
    "<img src=\"https://s3.amazonaws.com/video.udacity-data.com/topher/2018/June/5b133bfb_screen-shot-2018-06-02-at-5.52.44-pm/screen-shot-2018-06-02-at-5.52.44-pm.png\" width=\"400\"/>\n",
    "\n",
    "_Note: when C is too large for a particular set of data, you might not get convergence at all because your data cannot be separated with the small number of errors allotted with such a large value of C._\n",
    "\n",
    "**Kernels**\n",
    "Finally, we looked at what makes SVMs truly powerful, kernels. Kernels in SVMs allow us the ability to separate data when the boundary between them is nonlinear. Specifically, you saw two types of kernels:\n",
    "\n",
    "- polynomial\n",
    "- rbf\n",
    "\n",
    "By far the most popular kernel is the **rbf** kernel (which stands for radial basis function). The rbf kernel allows you the opportunity to classify points that seem hard to separate in any space. This is a density based approach that looks at the closeness of points to one another. This introduces another hyper-parameter gamma. When gamma is large, the outcome is similar to having a large value of C, that is your algorithm will attempt to classify every point correctly. Alternatively, small values of gamma will try to cluster in a more general way that will make more mistakes, but may perform better when it sees new data.\n",
    "\n",
    "<img src=\"https://s3.amazonaws.com/video.udacity-data.com/topher/2018/June/5b133ff6_screen-shot-2018-06-02-at-6.07.54-pm/screen-shot-2018-06-02-at-6.07.54-pm.png\" width=\"400\"/>"
   ]
  }
 ],
 "metadata": {
  "kernelspec": {
   "display_name": "Python [conda env:anaconda3]",
   "language": "python",
   "name": "conda-env-anaconda3-py"
  },
  "language_info": {
   "codemirror_mode": {
    "name": "ipython",
    "version": 3
   },
   "file_extension": ".py",
   "mimetype": "text/x-python",
   "name": "python",
   "nbconvert_exporter": "python",
   "pygments_lexer": "ipython3",
   "version": "3.6.4"
  }
 },
 "nbformat": 4,
 "nbformat_minor": 2
}
