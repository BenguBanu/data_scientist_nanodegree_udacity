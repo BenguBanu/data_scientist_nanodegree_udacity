{
 "cells": [
  {
   "cell_type": "markdown",
   "metadata": {},
   "source": [
    "# Supervised Learning\n",
    "## Model Evaluation Metrics\n",
    "##### Elliot Partridge"
   ]
  },
  {
   "cell_type": "markdown",
   "metadata": {},
   "source": [
    "### Confusion Matrix\n",
    "\n",
    "<img src=\"https://www.researchgate.net/profile/Juan_Banda/publication/256418526/figure/fig1/AS:297921313558528@1448041384565/Confusion-matrix-example.png\" width=200, height=200>\n",
    "\n",
    "- **True Positive:** When the model predicts that someone is sick _(and they are sick)_\n",
    "- **True Negative:** When the model predicts that someone is not sick _(and they are not sick)_\n",
    "- **False Negative:** When the model predicts that someone is healthy _(and they are sick)_\n",
    "- **False Positive:** When the model predicts that someone is sick _(and they are not sick)_\n",
    "\n",
    "**Type 1 and Type 2 Errors**\n",
    "- **Type 1 Error (Error of the first kind, or False Positive):** In the medical example, this is when we misdiagnose a healthy patient as sick.\n",
    "- **Type 2 Error (Error of the second kind, or False Negative):** In the medical example, this is when we misdiagnose a sick patient as healthy."
   ]
  },
  {
   "cell_type": "markdown",
   "metadata": {},
   "source": [
    "### Accuracy\n",
    "- Out of all patients how many did we classify correctly?\n",
    "\n",
    "formula = _total correctly classified / all classified_\n",
    "\n",
    "**Accuracy isn't always appropriate!**\n",
    "\n",
    "Imagine you ahve a very skewed dataset _e.g. credit card fraud_ where you have very few true cases fo fraud. Even if you classified none of them correctly because of the skewness towards correctly classifying normal transactions your accuracy would be very high but the model would still perform poorly for the usecase."
   ]
  },
  {
   "cell_type": "markdown",
   "metadata": {},
   "source": [
    "### Precision & Recall\n",
    "\n",
    "#### Precision:\n",
    "- Out of all of the patients that were diagnosed as sick how many were actually sick?\n",
    "\n",
    "#### Recall:\n",
    "- Out of the truly sick patients how many did we correctly diagnose as sick?\n",
    "    - _\"How many of the positive points did I manage to catch?\"_"
   ]
  },
  {
   "cell_type": "markdown",
   "metadata": {},
   "source": [
    "### F1 Score (Harmonic Mean)\n",
    "\n",
    "**F1 Score** = 2*((Precision * Recall) / (Precision + Recall))"
   ]
  },
  {
   "cell_type": "code",
   "execution_count": 5,
   "metadata": {},
   "outputs": [
    {
     "data": {
      "text/plain": [
       "0.6668797696184305"
      ]
     },
     "execution_count": 5,
     "metadata": {},
     "output_type": "execute_result"
    }
   ],
   "source": [
    "f1 = 2*((0.556*0.833)/(0.556+0.833))\n",
    "f1"
   ]
  },
  {
   "cell_type": "markdown",
   "metadata": {},
   "source": [
    "### F-beta Score\n",
    "\n",
    "By adjusting beta you can skew accuracy metric depending on whether you care about precision or recall\n",
    "\n",
    "If β\n",
    "=\n",
    "0\n",
    ",\n",
    "β=0, then we get precision.\n",
    "If \n",
    "β\n",
    "=\n",
    "∞\n",
    ",\n",
    "β=∞, then we get recall.\n",
    "For other values of \n",
    "β\n",
    ",\n",
    "β, if they are close to 0, we get something close to precision, if they are large numbers, then we get something close to recall, and if \n",
    "β\n",
    "=\n",
    "1\n",
    ",\n",
    "β=1, then we get the harmonic mean of precision and recall."
   ]
  },
  {
   "cell_type": "markdown",
   "metadata": {},
   "source": [
    "### Receiver Operating Characteristic (ROC) Curve\n",
    "\n",
    "Calculate 2 rates: **True Positive Rate** & **False Positive Rate** and then plot these two numbers _e.g. (0.57, 0.57)_. Do this for all splits and then calculate the area under the curve. The closer to 1 the more accurate the split!"
   ]
  },
  {
   "cell_type": "markdown",
   "metadata": {},
   "source": [
    "## Recap:\n",
    "\n",
    "**Training & Testing Data**\n",
    "First, it is important to always split your data into training and testing. Then you will measure how well your model performs on the test set of data after being fit training data.\n",
    "\n",
    "### Classification Measures\n",
    "If you are fitting your model to predict categorical data (spam not spam), there are different measures to understand how well your model is performing than if you are predicting numeric values (the price of a home).\n",
    "\n",
    "**Accuracy**\n",
    "Accuracy is often used to compare models, as it tells us the proportion of observations we correctly labeled.\n",
    "\n",
    "Often accuracy is not the only metric you should be optimizing on. This is especially the case when you have class imbalance in your data. Optimizing on only accuracy can be misleading in how well your model is truly performing. With that in mind, you saw some additional metrics.\n",
    "\n",
    "**Precision**\n",
    "Precision focuses on the predicted \"positive\" values in your dataset. By optimizing based on precision values, you are determining if you are doing a good job of predicting the positive values, as compared to predicting negative values as positive.\n",
    "\n",
    "**Recall**\n",
    "Recall focuses on the actual \"positive\" values in your dataset. By optimizing based on recall values, you are determining if you are doing a good job of predicting the positive values without regard of how you are doing on the actual negative values. If you want to perform something similar to recall on the actual 'negative' values, this is called specificity.\n",
    "\n",
    "**F-Beta Score**\n",
    "In order to look at a combination of metrics at the same time, there are some common techniques like the F-Beta Score (where the F1 score is frequently used), as well as the ROC and AUC. You can see that the \n",
    "β\n",
    "β parameter controls the degree to which precision is weighed into the F score, which allows precision and recall to be considered simultaneously. The most common value for beta is 1, as this is where you are finding the harmonic average between precision and recall.\n",
    "\n",
    "**ROC Curve & AUC**\n",
    "By finding different thresholds for our classification metrics, we can measure the area under the curve (where the curve is known as a ROC curve). Similar to each of the other metrics above, when the AUC is higher (closer to 1), this suggests that our model performance is better than when our metric is close to 0.\n",
    "\n",
    "\n",
    "### Regression Measures\n",
    "You want to measure how well your algorithms are performing on predicting numeric values? In these cases, there are three main metrics that are frequently used. mean absolute error, mean squared error, and r2 values.\n",
    "\n",
    "_As an important note, optimizing on the mean absolute error may lead to a different 'best model' than if you optimize on the mean squared error. However, optimizing on the mean squared error will always lead to the same 'best' model as if you were to optimize on the r2 value._\n",
    "\n",
    "Again, if you choose a model with the best r2 value (the highest), it will also be the model that has the lowest (MSE). Choosing one versus another is based on which one you feel most comfortable explaining to someone else.\n",
    "\n",
    "**Mean Absolute Error (MAE)**\n",
    "The first metric you saw was the mean absolute error. This is a useful metric to optimize on when the value you are trying to predict follows a skewed distribution. Optimizing on an absolute value is particularly helpful in these cases because outliers will not influence models attempting to optimize on this metric as much as if you use the mean squared error. The optimal value for this technique is the median value. When you optimize for the R2 value of the mean squared error, the optimal value is actually the mean.\n",
    "\n",
    "**Mean-Squared Error (MSE)**\n",
    "The mean squared error is by far the most used metric for optimization in regression problems. Similar to with MAE, you want to find a model that minimizes this value. This metric can be greatly impacted by skewed distributions and outliers. When a model is considered optimal via MAE, but not for MSE, it is useful to keep this in mind. In many cases, it is easier to actually optimize on MSE, as the a quadratic term is differentiable. However, an absolute value is not differentiable. This factor makes this metric better for gradient based optimization algorithms.\n",
    "\n",
    "**R2 Score**\n",
    "Finally, the r2 value is another common metric when looking at regression values. Optimizing a model to have the lowest MSE will also optimize a model to have the the highest R2 value. This is a convenient feature of this metric. The R2 value is frequently interpreted as the 'amount of variability' captured by a model. Therefore, you can think of MSE, as the average amount you miss by across all the points, and the R2 value as the amount of the variability in the points that you capture with a model."
   ]
  },
  {
   "cell_type": "code",
   "execution_count": null,
   "metadata": {},
   "outputs": [],
   "source": []
  }
 ],
 "metadata": {
  "kernelspec": {
   "display_name": "Python [conda env:anaconda3]",
   "language": "python",
   "name": "conda-env-anaconda3-py"
  },
  "language_info": {
   "codemirror_mode": {
    "name": "ipython",
    "version": 3
   },
   "file_extension": ".py",
   "mimetype": "text/x-python",
   "name": "python",
   "nbconvert_exporter": "python",
   "pygments_lexer": "ipython3",
   "version": "3.6.4"
  }
 },
 "nbformat": 4,
 "nbformat_minor": 2
}
