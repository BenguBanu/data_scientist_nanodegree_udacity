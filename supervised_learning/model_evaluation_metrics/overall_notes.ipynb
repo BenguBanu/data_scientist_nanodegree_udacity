{
 "cells": [
  {
   "cell_type": "markdown",
   "metadata": {},
   "source": [
    "# Supervised Learning\n",
    "## Model Evaluation Metrics\n",
    "##### Elliot Partridge"
   ]
  },
  {
   "cell_type": "markdown",
   "metadata": {},
   "source": [
    "### Confusion Matrix\n",
    "\n",
    "<img src=\"https://www.researchgate.net/profile/Juan_Banda/publication/256418526/figure/fig1/AS:297921313558528@1448041384565/Confusion-matrix-example.png\" width=200, height=200>\n",
    "\n",
    "- **True Positive:** When the model predicts that someone is sick _(and they are sick)_\n",
    "- **True Negative:** When the model predicts that someone is not sick _(and they are not sick)_\n",
    "- **False Negative:** When the model predicts that someone is healthy _(and they are sick)_\n",
    "- **False Positive:** When the model predicts that someone is sick _(and they are not sick)_\n",
    "\n",
    "**Type 1 and Type 2 Errors**\n",
    "- **Type 1 Error (Error of the first kind, or False Positive):** In the medical example, this is when we misdiagnose a healthy patient as sick.\n",
    "- **Type 2 Error (Error of the second kind, or False Negative):** In the medical example, this is when we misdiagnose a sick patient as healthy."
   ]
  },
  {
   "cell_type": "markdown",
   "metadata": {},
   "source": [
    "### Accuracy\n",
    "- Out of all patients how many did we classify correctly?\n",
    "\n",
    "formula = _total correctly classified / all classified_\n",
    "\n",
    "**Accuracy isn't always appropriate!**\n",
    "\n",
    "Imagine you ahve a very skewed dataset _e.g. credit card fraud_ where you have very few true cases fo fraud. Even if you classified none of them correctly because of the skewness towards correctly classifying normal transactions your accuracy would be very high but the model would still perform poorly for the usecase."
   ]
  },
  {
   "cell_type": "markdown",
   "metadata": {},
   "source": [
    "### Precision & Recall\n",
    "\n",
    "#### Precision:\n",
    "- Out of all of the patients that were diagnosed as sick how many were actually sick?\n",
    "\n",
    "#### Recall:\n",
    "- Out of the truly sick patients how many did we correctly diagnose as sick?\n",
    "    - _\"How many of the positive points did I manage to catch?\"_"
   ]
  },
  {
   "cell_type": "markdown",
   "metadata": {},
   "source": [
    "### F1 Score (Harmonic Mean)\n",
    "\n"
   ]
  },
  {
   "cell_type": "code",
   "execution_count": null,
   "metadata": {},
   "outputs": [],
   "source": []
  }
 ],
 "metadata": {
  "kernelspec": {
   "display_name": "Python [conda env:anaconda3]",
   "language": "python",
   "name": "conda-env-anaconda3-py"
  },
  "language_info": {
   "codemirror_mode": {
    "name": "ipython",
    "version": 3
   },
   "file_extension": ".py",
   "mimetype": "text/x-python",
   "name": "python",
   "nbconvert_exporter": "python",
   "pygments_lexer": "ipython3",
   "version": "3.6.4"
  }
 },
 "nbformat": 4,
 "nbformat_minor": 2
}
