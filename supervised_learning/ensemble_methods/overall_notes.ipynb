{
 "cells": [
  {
   "cell_type": "markdown",
   "metadata": {},
   "source": [
    "# Supervised Learning\n",
    "## Ensemble Methods\n",
    "##### Elliot Partridge"
   ]
  },
  {
   "cell_type": "markdown",
   "metadata": {},
   "source": [
    "**Ensembles**\n",
    "Refer to how we can combine (or ensemble) the models you have already seen in a way that makes the combination of these models better at predicting than the individual models."
   ]
  },
  {
   "cell_type": "markdown",
   "metadata": {},
   "source": [
    "**Why Would We Want to Ensemble Learners Together?**\n",
    "There are two competing variables in finding a well fitting machine learning model: Bias and Variance.\n",
    "\n",
    "- **Bias:** When a model has high bias, this means that means it doesn't do a good job of bending to the data. An example of an algorithm that usually has high bias is linear regression. Even with completely different datasets, we end up with the same line fit to the data. When models have high bias, this is bad.\n",
    "\n",
    "<img src=\"https://s3.amazonaws.com/video.udacity-data.com/topher/2016/August/57af91bb_anscombes-quartet-3/anscombes-quartet-3.svg\" width=400 />"
   ]
  },
  {
   "cell_type": "markdown",
   "metadata": {},
   "source": [
    "- **Variance:** When a model has high variance, this means that it changes drastically to meet the needs of every point in our dataset. Linear models like the one above is low variance, but high bias. An example of an algorithm that tends to have a high variance and low bias is a decision tree (especially decision trees with no early stopping parameters). A decision tree, as a high variance algorithm, will attempt to split every point into it's own branch if possible. This is a trait of high variance, low bias algorithms - they are extremely flexible to fit exactly whatever data they see.\n",
    "\n",
    "<img src=\"https://s3.amazonaws.com/video.udacity-data.com/topher/2016/December/58633876_decision-tree-sketch/decision-tree-sketch.png\" width=400 />"
   ]
  },
  {
   "cell_type": "markdown",
   "metadata": {},
   "source": [
    "**Introducing Randomness Into Ensembles**\n",
    "Another method that is used to improve ensemble methods is to introduce randomness into high variance algorithms before they are ensembled together. The introduction of randomness combats the tendency of these algorithms to overfit (or fit directly to the data available). There are two main ways that randomness is introduced:\n",
    "\n",
    "- **Bootstrap the data** - that is, sampling the data with replacement and fitting your algorithm and fitting your algorithm to the sampled data.\n",
    "- **Subset the features** - in each split of a decision tree or with each algorithm used an ensemble only a subset of the total possible features are used.\n",
    "In fact, these are the two random components used in the next algorithm you are going to see called random forests."
   ]
  },
  {
   "cell_type": "markdown",
   "metadata": {},
   "source": [
    "### Weighting the models"
   ]
  },
  {
   "cell_type": "code",
   "execution_count": 1,
   "metadata": {},
   "outputs": [
    {
     "name": "stdout",
     "output_type": "stream",
     "text": [
      "1.95\n",
      "0.0\n",
      "-1.1\n"
     ]
    }
   ],
   "source": [
    "import numpy as np\n",
    "\n",
    "m1_accuracy = 0.875\n",
    "m2_accuracy = 0.5\n",
    "m3_accuracy = 0.25\n",
    "\n",
    "# formula can also be written using simply as ln*(#correct / #incorrect)\n",
    "\n",
    "print(round(np.log(m1_accuracy/(1-m1_accuracy)),2))\n",
    "print(round(np.log(m2_accuracy/(1-m2_accuracy)),2))\n",
    "print(round(np.log(m3_accuracy/(1-m3_accuracy)),2))"
   ]
  },
  {
   "cell_type": "markdown",
   "metadata": {},
   "source": [
    "### AdaBoost in sklearn\n",
    "\n",
    "Building an AdaBoost model in sklearn is no different than building any other model. You can use scikit-learn's AdaBoost Classifier class. This class provides the functions to define and fit the model to your data.\n",
    "\n",
    "```python\n",
    "from sklearn.ensemble import AdaBoostClassifier\n",
    "model = AdaBoostClassifier()\n",
    "model.fit(x_train, y_train)\n",
    "model.predict(x_test)\n",
    "```\n",
    "\n",
    "In the example above, the model variable is a decision tree model that has been fitted to the data x_values and y_values. The functions fit and predict work exactly as before.\n",
    "\n",
    "**Hyperparameters**\n",
    "When we define the model, we can specify the hyperparameters. In practice, the most common ones are:\n",
    "\n",
    "- base_estimator: The model utilized for the weak learners (Warning: Don't forget to import the model that you decide to use for the weak learner).\n",
    "- n_estimators: The maximum number of weak learners used.\n",
    "\n",
    "For example, here we define a model which uses decision trees of max_depth 2 as the weak learners, and it allows a maximum of 4 of them.\n",
    "\n",
    "```python\n",
    "from sklearn.tree import DecisionTreeClassifier\n",
    "model = AdaBoostClassifier(base_estimator = DecisionTreeClassifier(max_depth=2), n_estimators = 4)\n",
    "```"
   ]
  },
  {
   "cell_type": "markdown",
   "metadata": {},
   "source": [
    "### Recap\n",
    "In this lesson, you learned about a number of techniques used in ensemble methods. Before looking at the techniques, you saw that there are two variables with tradeoffs **Bias** and **Variance**.\n",
    "\n",
    "- **High Bias, Low Variance** models tend to underfit data, as they are not flexible. Linear models fall into this category of models.\n",
    "- **High Variance, Low Bias** models tend to overfit data, as they are too flexible. Decision trees fall into this category of models.\n",
    "\n",
    "**Ensemble Models**\n",
    "\n",
    "In order to find a way to optimize for both variance and bias, we have ensemble methods. Ensemble methods have become some of the most popular methods used to compete in competitions on Kaggle and used in industry across applications.\n",
    "\n",
    "There were two randomization techniques you saw to combat overfitting:\n",
    "\n",
    "- **Bootstrap the data** - that is, sampling the data with replacement and fitting your algorithm and fitting your algorithm to the sampled data.\n",
    "- **Subset the features** - in each split of a decision tree or with each algorithm used an ensemble only a subset of the total possible features are used.\n",
    "\n",
    "**Techniques:**\n",
    "\n",
    "You saw a number of ensemble methods in this lesson including:\n",
    "\n",
    "- [BaggingClassifier](http://scikit-learn.org/stable/modules/generated/sklearn.ensemble.BaggingClassifier.html#sklearn.ensemble.BaggingClassifier)\n",
    "- [RandomForestClassifier](http://scikit-learn.org/stable/modules/generated/sklearn.ensemble.RandomForestClassifier.html#sklearn.ensemble.RandomForestClassifier)\n",
    "- [AdaBoostClassifier](http://scikit-learn.org/stable/modules/generated/sklearn.ensemble.AdaBoostClassifier.html#sklearn.ensemble.AdaBoostClassifier)\n",
    "\n",
    "Another really useful guide for ensemble methods can be found in the documentation [here](http://scikit-learn.org/stable/modules/ensemble.html). These methods can also all be extended to regression problems, not just classification.\n",
    "\n",
    "**Additional Resources:**\n",
    "\n",
    "Additionally, here are some great resources on AdaBoost if you'd like to learn some more!\n",
    "\n",
    "- [Here is the original paper from Freund and Schapire.](https://cseweb.ucsd.edu/~yfreund/papers/IntroToBoosting.pdf)\n",
    "- [A follow-up paper from the same authors regarding several experiments with Adaboost.](https://people.cs.pitt.edu/~milos/courses/cs2750/Readings/boosting.pdf)\n",
    "- [A great tutorial by Schapire.](http://rob.schapire.net/papers/explaining-adaboost.pdf)"
   ]
  }
 ],
 "metadata": {
  "kernelspec": {
   "display_name": "Python [conda env:anaconda3]",
   "language": "python",
   "name": "conda-env-anaconda3-py"
  },
  "language_info": {
   "codemirror_mode": {
    "name": "ipython",
    "version": 3
   },
   "file_extension": ".py",
   "mimetype": "text/x-python",
   "name": "python",
   "nbconvert_exporter": "python",
   "pygments_lexer": "ipython3",
   "version": "3.6.4"
  }
 },
 "nbformat": 4,
 "nbformat_minor": 2
}
