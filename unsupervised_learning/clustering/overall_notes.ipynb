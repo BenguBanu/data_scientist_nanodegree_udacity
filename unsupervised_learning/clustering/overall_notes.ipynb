{
 "cells": [
  {
   "cell_type": "markdown",
   "metadata": {},
   "source": [
    "# Deep Learning\n",
    "## Clustering\n",
    "##### Elliot Partridge"
   ]
  },
  {
   "cell_type": "markdown",
   "metadata": {},
   "source": [
    "## K-Means \n",
    "\n",
    "- K represents how many clusters you have in a dataset \n",
    "\n",
    "**Elbow Method for finding K**\n",
    "In the elbow method, you create a plot of the number of clusters (on the x-axis) vs. the average distance of the center of the cluster to each point (on the y-axis). This plot is called a scree plot\n",
    "\n",
    "The average distance will always decrease with each additional cluster center. However, with fewer clusters, those decreases will be more substantial. At some point, adding new clusters will no longer create a substantial decrease in the average distance. This point is known as the elbow.\n",
    "\n",
    "- Because the random starting points for the k means clusters may not eventually land on the the best clustering it is important to run k-means many times avoiding similar starting points. The best grouping is that where the average distance from the points to the centeroids is the smallest.\n",
    "\n",
    "**Feature Scaling**\n",
    "- K-means uses distances to determine which point a group belongs to so feature scaling must be used."
   ]
  }
 ],
 "metadata": {
  "kernelspec": {
   "display_name": "Python 3",
   "language": "python",
   "name": "python3"
  },
  "language_info": {
   "codemirror_mode": {
    "name": "ipython",
    "version": 3
   },
   "file_extension": ".py",
   "mimetype": "text/x-python",
   "name": "python",
   "nbconvert_exporter": "python",
   "pygments_lexer": "ipython3",
   "version": "3.6.5"
  }
 },
 "nbformat": 4,
 "nbformat_minor": 2
}
