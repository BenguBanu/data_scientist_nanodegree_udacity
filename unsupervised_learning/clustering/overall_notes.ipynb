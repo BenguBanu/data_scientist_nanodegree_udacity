{
 "cells": [
  {
   "cell_type": "markdown",
   "metadata": {},
   "source": [
    "# Deep Learning\n",
    "## Clustering\n",
    "##### Elliot Partridge"
   ]
  },
  {
   "cell_type": "markdown",
   "metadata": {},
   "source": [
    "## K-Means \n",
    "\n",
    "- K represents how many clusters you have in a dataset \n",
    "\n",
    "**Elbow Method for finding K**\n",
    "In the elbow method, you create a plot of the number of clusters (on the x-axis) vs. the average distance of the center of the cluster to each point (on the y-axis). This plot is called a scree plot\n",
    "\n",
    "The average distance will always decrease with each additional cluster center. However, with fewer clusters, those decreases will be more substantial. At some point, adding new clusters will no longer create a substantial decrease in the average distance. This point is known as the elbow.\n",
    "\n",
    "- Because the random starting points for the k means clusters may not eventually land on the the best clustering it is important to run k-means many times avoiding similar starting points. The best grouping is that where the average distance from the points to the centeroids is the smallest.\n",
    "\n",
    "**Feature Scaling**\n",
    "- K-means uses distances to determine which point a group belongs to so feature scaling must be used:\n",
    "\n",
    "- **Normalizing or Max-Min Scaling** - this type of scaling transforms variable values to between 0 and 1.\n",
    "- **Standardizing or Z-Score Scaling** - this type of scaling transforms variable values so they have a mean of 0 and standard deviation of 1."
   ]
  },
  {
   "cell_type": "markdown",
   "metadata": {},
   "source": [
    "## Hierarchical and Density Based Clustering\n",
    "\n",
    "- K-means will struggle with clusters that overlap like this: \\\\\\ . thi is because K-means relies upon distance to centroid as a definition for a cluster. This leads K-means to always finding circular / spherical / hyper-spherical clusters _e.g. K-means would struggle with a crescent dataset_\n",
    "\n",
    "**Hierarchical Clustering**\n",
    "- Results in a structure of clusters that gives us a visual indication of how the clusters relate to each other\n",
    "\n",
    "**Density Based Clustering**\n",
    "- Robust against datasets with noise and means we don't need to specify the number of clusters. It clusters points that are densely packed together and labels the rest as noise."
   ]
  }
 ],
 "metadata": {
  "kernelspec": {
   "display_name": "Python 3",
   "language": "python",
   "name": "python3"
  },
  "language_info": {
   "codemirror_mode": {
    "name": "ipython",
    "version": 3
   },
   "file_extension": ".py",
   "mimetype": "text/x-python",
   "name": "python",
   "nbconvert_exporter": "python",
   "pygments_lexer": "ipython3",
   "version": "3.6.5"
  }
 },
 "nbformat": 4,
 "nbformat_minor": 2
}
