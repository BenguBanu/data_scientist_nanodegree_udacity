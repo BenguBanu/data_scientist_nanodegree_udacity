{
 "cells": [
  {
   "cell_type": "markdown",
   "metadata": {},
   "source": [
    "# Supervised Learning\n",
    "## Introduction to Neural Networks\n",
    "##### Elliot Partridge"
   ]
  },
  {
   "cell_type": "markdown",
   "metadata": {},
   "source": [
    "- **Error Function:** Refers to how far away you are from the optimum solution. _(Error functions should not be discrete since otherwise you can get in a local basin)._\n",
    "- **Maximum Likelihood:** Picking the model that gives existing labels the highest probability.\n",
    "- **Cross Entropy:** The sum of the negative of the logarithm of the _(individual)_ probabilities is cross entropy. Low probability = high cross entropy. You should select the the model that produces the lowest cross entropy on known data"
   ]
  },
  {
   "cell_type": "markdown",
   "metadata": {},
   "source": [
    "## Gradient Descent \n",
    "\n",
    "- _\"The gradient is actually a scalar times the coordinates of the point! And what is the scalar? Nothing less than a multiple of the difference between the label and the prediction. What significance does this have... If a point is well classified, we will get a small gradient. And if it's poorly classified, the gradient will be quite large.\"_"
   ]
  }
 ],
 "metadata": {
  "kernelspec": {
   "display_name": "Python 3",
   "language": "python",
   "name": "python3"
  },
  "language_info": {
   "codemirror_mode": {
    "name": "ipython",
    "version": 3
   },
   "file_extension": ".py",
   "mimetype": "text/x-python",
   "name": "python",
   "nbconvert_exporter": "python",
   "pygments_lexer": "ipython3",
   "version": "3.6.5"
  }
 },
 "nbformat": 4,
 "nbformat_minor": 2
}
